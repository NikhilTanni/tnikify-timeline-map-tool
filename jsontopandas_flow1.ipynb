{
 "cells": [
  {
   "cell_type": "code",
   "execution_count": 103,
   "metadata": {},
   "outputs": [],
   "source": [
    "import os\n",
    "import json\n",
    "import pandas as pd\n",
    "import arrow"
   ]
  },
  {
   "cell_type": "code",
   "execution_count": 104,
   "metadata": {},
   "outputs": [],
   "source": [
    "# init\n",
    "\n",
    "cfg = {}\n",
    "data = pd.DataFrame(columns=['eventID', 'fileRef', 'timestart', 'epochstart', 'timeend', 'epochend'])\n",
    "eventmodes = {\n",
    "    \"lifespan\": {\n",
    "        \"start\": [\"birth\", \"start\"],\n",
    "        \"end\": [\"death\", \"end\"]\n",
    "    }\n",
    "}"
   ]
  },
  {
   "cell_type": "code",
   "execution_count": 105,
   "metadata": {},
   "outputs": [],
   "source": [
    "def readJsonFile(filename):\n",
    "    with open(filename, 'r') as jfl:\n",
    "        return json.loads(jfl.read())\n",
    "    \n",
    "def detTimeKeys(keys, evtmodetype=\"lifespan\"):\n",
    "    evtmode=eventmodes[evtmodetype]\n",
    "    timekeys = {}\n",
    "    for key in keys:\n",
    "        for pkey in evtmode:\n",
    "            if key in evtmode[pkey]:\n",
    "                # timekeys[pkey] = evtmode[pkey].index(key)\n",
    "                timekeys[pkey] = key\n",
    "                break\n",
    "    return timekeys"
   ]
  },
  {
   "cell_type": "code",
   "execution_count": 106,
   "metadata": {},
   "outputs": [],
   "source": [
    "# read configurations\n",
    "cfg = readJsonFile('data.json')"
   ]
  },
  {
   "cell_type": "code",
   "execution_count": 107,
   "metadata": {},
   "outputs": [
    {
     "data": {
      "text/html": [
       "<div>\n",
       "<style scoped>\n",
       "    .dataframe tbody tr th:only-of-type {\n",
       "        vertical-align: middle;\n",
       "    }\n",
       "\n",
       "    .dataframe tbody tr th {\n",
       "        vertical-align: top;\n",
       "    }\n",
       "\n",
       "    .dataframe thead th {\n",
       "        text-align: right;\n",
       "    }\n",
       "</style>\n",
       "<table border=\"1\" class=\"dataframe\">\n",
       "  <thead>\n",
       "    <tr style=\"text-align: right;\">\n",
       "      <th></th>\n",
       "      <th>eventID</th>\n",
       "      <th>fileRef</th>\n",
       "      <th>timestart</th>\n",
       "      <th>epochstart</th>\n",
       "      <th>timeend</th>\n",
       "      <th>epochend</th>\n",
       "    </tr>\n",
       "  </thead>\n",
       "  <tbody>\n",
       "    <tr>\n",
       "      <th>0</th>\n",
       "      <td>6a7c96a7-4894-4b5e-a49f-7735d9404234</td>\n",
       "      <td>maratha.json</td>\n",
       "      <td>1630-02-19</td>\n",
       "      <td>-10725091200</td>\n",
       "      <td>1680-04-03</td>\n",
       "      <td>-9143452800</td>\n",
       "    </tr>\n",
       "    <tr>\n",
       "      <th>1</th>\n",
       "      <td>0661c7bb-0f52-4cba-bd79-4f4a639391d4</td>\n",
       "      <td>maratha.json</td>\n",
       "      <td>1674-01</td>\n",
       "      <td>-9340790400</td>\n",
       "      <td>1818-01</td>\n",
       "      <td>-4796668800</td>\n",
       "    </tr>\n",
       "    <tr>\n",
       "      <th>2</th>\n",
       "      <td>92e3bc7f-4691-48e9-8782-b8b137be470a</td>\n",
       "      <td>maratha.json</td>\n",
       "      <td>1775-01</td>\n",
       "      <td>-6153580800</td>\n",
       "      <td>1782-05-17</td>\n",
       "      <td>-5920905600</td>\n",
       "    </tr>\n",
       "    <tr>\n",
       "      <th>3</th>\n",
       "      <td>7389b283-ef27-4ebf-bbeb-4964b3061217</td>\n",
       "      <td>maratha.json</td>\n",
       "      <td>1803-01</td>\n",
       "      <td>-5270054400</td>\n",
       "      <td>1805-01</td>\n",
       "      <td>-5206896000</td>\n",
       "    </tr>\n",
       "    <tr>\n",
       "      <th>4</th>\n",
       "      <td>b566b5e6-a171-42bf-b61f-3a1996ce7de0</td>\n",
       "      <td>maratha.json</td>\n",
       "      <td>1817-09-05</td>\n",
       "      <td>-4806864000</td>\n",
       "      <td>1818-06-03</td>\n",
       "      <td>-4783449600</td>\n",
       "    </tr>\n",
       "  </tbody>\n",
       "</table>\n",
       "</div>"
      ],
      "text/plain": [
       "                                eventID       fileRef   timestart  \\\n",
       "0  6a7c96a7-4894-4b5e-a49f-7735d9404234  maratha.json  1630-02-19   \n",
       "1  0661c7bb-0f52-4cba-bd79-4f4a639391d4  maratha.json     1674-01   \n",
       "2  92e3bc7f-4691-48e9-8782-b8b137be470a  maratha.json     1775-01   \n",
       "3  7389b283-ef27-4ebf-bbeb-4964b3061217  maratha.json     1803-01   \n",
       "4  b566b5e6-a171-42bf-b61f-3a1996ce7de0  maratha.json  1817-09-05   \n",
       "\n",
       "     epochstart     timeend     epochend  \n",
       "0  -10725091200  1680-04-03  -9143452800  \n",
       "1   -9340790400     1818-01  -4796668800  \n",
       "2   -6153580800  1782-05-17  -5920905600  \n",
       "3   -5270054400     1805-01  -5206896000  \n",
       "4   -4806864000  1818-06-03  -4783449600  "
      ]
     },
     "execution_count": 107,
     "metadata": {},
     "output_type": "execute_result"
    }
   ],
   "source": [
    "# read actual data\n",
    "\n",
    "for eventfile in cfg['files']:\n",
    "    # defined only type group\n",
    "    if (cfg['files'][eventfile]['type'] == \"group\"):\n",
    "        # read the sub file\n",
    "        evtdata = readJsonFile(os.path.join(cfg['config']['datafolder'], cfg['files'][eventfile]['file']))\n",
    "        \n",
    "        # loop through the events and add to dataframe\n",
    "        for evt in evtdata:\n",
    "            if (\"time\" in evtdata[evt]):\n",
    "                # time entry exist - proceed for extraction\n",
    "                if (evtdata[evt]['type'] in eventmodes):\n",
    "                    # define the start and end keys\n",
    "                    startendkey = detTimeKeys(evtdata[evt]['time'][evtdata[evt]['type']].keys(), evtdata[evt]['type'])\n",
    "                    times = {\n",
    "                        \"start\": None,\n",
    "                        \"end\": None\n",
    "                    }\n",
    "                    \n",
    "                    # set start and end value which ever applicable\n",
    "                    if \"start\" in startendkey:\n",
    "                        times['start'] = evtdata[evt]['time'][evtdata[evt]['type']][startendkey['start']]\n",
    "                        \n",
    "                        tm = arrow.get(times['start'])\n",
    "                        local = tm.to('Asia/Calcutta')\n",
    "                        times['epochstart'] = local.timestamp\n",
    "                        # reference for rev conversion if negative\n",
    "                        #datetime.datetime(1970, 1, 1) + datetime.timedelta(seconds=(-10725091200))\n",
    "                    if \"end\" in startendkey:\n",
    "                        times['end'] = evtdata[evt]['time'][evtdata[evt]['type']][startendkey['end']]\n",
    "                        \n",
    "                        tm = arrow.get(times['end'])\n",
    "                        local = tm.to('Asia/Calcutta')\n",
    "                        times['epochend'] = local.timestamp\n",
    "                        \n",
    "                    data.loc[len(data.index)] = [evt, cfg['files'][eventfile]['file'], times['start'], times['epochstart'], times['end'], times['epochend']]\n",
    "    else:\n",
    "        raise Exception(\"Invalid eventfile type: \" + cfg['files'][eventfile]['type'])\n",
    "data.head(10)"
   ]
  },
  {
   "cell_type": "code",
   "execution_count": null,
   "metadata": {},
   "outputs": [],
   "source": []
  },
  {
   "cell_type": "code",
   "execution_count": 108,
   "metadata": {},
   "outputs": [],
   "source": [
    "## Filters and Sorts"
   ]
  },
  {
   "cell_type": "code",
   "execution_count": 116,
   "metadata": {},
   "outputs": [
    {
     "data": {
      "text/html": [
       "<div>\n",
       "<style scoped>\n",
       "    .dataframe tbody tr th:only-of-type {\n",
       "        vertical-align: middle;\n",
       "    }\n",
       "\n",
       "    .dataframe tbody tr th {\n",
       "        vertical-align: top;\n",
       "    }\n",
       "\n",
       "    .dataframe thead th {\n",
       "        text-align: right;\n",
       "    }\n",
       "</style>\n",
       "<table border=\"1\" class=\"dataframe\">\n",
       "  <thead>\n",
       "    <tr style=\"text-align: right;\">\n",
       "      <th></th>\n",
       "      <th>eventID</th>\n",
       "      <th>fileRef</th>\n",
       "      <th>timestart</th>\n",
       "      <th>epochstart</th>\n",
       "      <th>timeend</th>\n",
       "      <th>epochend</th>\n",
       "    </tr>\n",
       "  </thead>\n",
       "  <tbody>\n",
       "    <tr>\n",
       "      <th>0</th>\n",
       "      <td>6a7c96a7-4894-4b5e-a49f-7735d9404234</td>\n",
       "      <td>maratha.json</td>\n",
       "      <td>1630-02-19</td>\n",
       "      <td>-10725091200</td>\n",
       "      <td>1680-04-03</td>\n",
       "      <td>-9143452800</td>\n",
       "    </tr>\n",
       "  </tbody>\n",
       "</table>\n",
       "</div>"
      ],
      "text/plain": [
       "                                eventID       fileRef   timestart  \\\n",
       "0  6a7c96a7-4894-4b5e-a49f-7735d9404234  maratha.json  1630-02-19   \n",
       "\n",
       "     epochstart     timeend     epochend  \n",
       "0  -10725091200  1680-04-03  -9143452800  "
      ]
     },
     "execution_count": 116,
     "metadata": {},
     "output_type": "execute_result"
    }
   ],
   "source": [
    "data[(data.epochstart < -9340790400) & (data.epochend > -9143452801)]"
   ]
  },
  {
   "cell_type": "code",
   "execution_count": null,
   "metadata": {},
   "outputs": [],
   "source": []
  }
 ],
 "metadata": {
  "kernelspec": {
   "display_name": "Python 3",
   "language": "python",
   "name": "python3"
  },
  "language_info": {
   "codemirror_mode": {
    "name": "ipython",
    "version": 3
   },
   "file_extension": ".py",
   "mimetype": "text/x-python",
   "name": "python",
   "nbconvert_exporter": "python",
   "pygments_lexer": "ipython3",
   "version": "3.8.5"
  }
 },
 "nbformat": 4,
 "nbformat_minor": 4
}
